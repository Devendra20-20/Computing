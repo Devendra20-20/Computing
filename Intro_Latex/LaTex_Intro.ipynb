{
 "cells": [
  {
   "cell_type": "markdown",
   "metadata": {},
   "source": [
    "# Introduction to LaTex\n",
    "![img](https://upload.wikimedia.org/wikipedia/commons/thumb/4/45/LaTeX_project_logo_bird.svg/1920px-LaTeX_project_logo_bird.svg.png)\n",
    "\n",
    "## Contents:\n",
    "### 1. Introduction\n",
    "### 2. Word Vs LaTex\n",
    "### 3. WinEdit\n",
    "### 4. Texmaker\n",
    "### 5. Texstudio\n",
    "#### 5.1 Installation\n",
    "### 6. Documents\n",
    "#### 6.1. LaTeX Documents\n",
    "#### 6.1.1 Thesis/Report\n",
    "#### 6.1.2 Proposal\n",
    "#### 6.1.3 Article\n",
    "#### 6.1.4 Beamer\n",
    "### 7. Math Typesettings \n",
    "### 8. Equation typesettings"
   ]
  },
  {
   "cell_type": "markdown",
   "metadata": {},
   "source": [
    "\n",
    "### LaTeX is a high quality typesetting system which can produce modern technical and scientific documents such as article, report, thesis, term paper, project work, book, and beamer presentation.\n",
    "*  Developed by Leslie B. Lamport (born February 7, 1941) is an American computer scientist.\t\n",
    "![img](https://upload.wikimedia.org/wikipedia/commons/5/50/Leslie_Lamport.jpg)\n",
    "[Link:](https://upload.wikimedia.org/wikipedia/commons/5/50/Leslie_Lamport.jpg)\n",
    "*  Uses commands to create mathematical symbols.\n",
    "* \tMicrosoft Word is based on a principle called ``What you see is what you get''(WYSIWYG), which means that the user immediately sees the document on the screen as it will appear on the printed page.\n",
    "*  LaTeX is based on the principle of ``What you get is what you mean''(WYGIWYM), which implies that the document is not directly displayed on the screen and changes, such as format settings, are not immediately visible.\n",
    "*  The final document is obtained by converting the source file (.tex file) into a pdf file.\n",
    "*  It is widely used in academia for the communication and publication of scientific and technical documents.\n",
    "### References:\n",
    "* Knauff, M., \\& Nejasmic, J., An Efficiency Comparison of Document Preparation Systems Used in Academic Research and Development. PloS one, 9(12), (2014)."
   ]
  },
  {
   "cell_type": "markdown",
   "metadata": {},
   "source": [
    "# Why not MS Word?"
   ]
  },
  {
   "cell_type": "markdown",
   "metadata": {},
   "source": [
    "![img](https://www.johndcook.com/wordvslatex.gif)\n",
    "[Image source:](https://www.johndcook.com/wordvslatex.gif)\n",
    "![img](LW.png)\n"
   ]
  },
  {
   "cell_type": "markdown",
   "metadata": {},
   "source": [
    "# Documents"
   ]
  },
  {
   "cell_type": "markdown",
   "metadata": {},
   "source": [
    "*  Article\n",
    "*  Book\n",
    "* Report\n",
    "* Thesis(Master, PhD)\n",
    "*  Term Paper\n",
    "*  Manual\n",
    "* Tech Report\n",
    "* Project Work\n",
    "*  Miscellaneous"
   ]
  },
  {
   "cell_type": "markdown",
   "metadata": {},
   "source": [
    "## Latex Documents\n",
    "\n",
    "![img](LD.png)"
   ]
  },
  {
   "cell_type": "markdown",
   "metadata": {},
   "source": [
    "## Thesis\n",
    "![img](MT.png)\n",
    "![img](TP.png)"
   ]
  },
  {
   "cell_type": "markdown",
   "metadata": {},
   "source": [
    "## WinEdit"
   ]
  },
  {
   "cell_type": "markdown",
   "metadata": {},
   "source": [
    "\n",
    "WinEdt is a powerful and versatile all-purpose text\n",
    "editor for Windows with a strong predisposition\n",
    "towards the creation and compilation of LaTeX\n",
    "documents...\n",
    "![img](WE1.png)\n",
    "[Source:](https://www.winedt.com/)\n"
   ]
  },
  {
   "cell_type": "markdown",
   "metadata": {},
   "source": [
    "## WinEdit(Cont..)\n",
    "\n"
   ]
  },
  {
   "cell_type": "markdown",
   "metadata": {},
   "source": [
    "![img](WE.png)\n",
    "[Source:](https://www.winedt.com/)"
   ]
  },
  {
   "cell_type": "markdown",
   "metadata": {},
   "source": [
    "## Texmaker\n",
    " Texmaker is a free, modern and cross-platform LaTeX editor\n",
    "for linux, macosx and windows systems that integrates many\n",
    "tools needed to develop documents with LaTeX, in just one\n",
    "application.\n",
    "![img](Te.png)\n",
    "[Source:](https://www.xm1math.net/texmaker/shots.html)\n"
   ]
  },
  {
   "cell_type": "markdown",
   "metadata": {},
   "source": [
    "## TeXstudio\n",
    " TeXstudio is an integrated writing environment for creating LaTeX documents. Our goal is to make writing LaTeX as easy and comfortable as possible. Therefore TeXstudio has numerous features like syntax-highlighting, integrated viewer, reference checking and various assistants.\n",
    "## How to install in my PC?\n",
    "### For Ubuntu Linux:  Use command\n",
    "* Ctrl + Alt + T\n",
    "* sudo apt-get update\n",
    "* sudo apt-get install texstudio\n",
    "* Type texstudio\n",
    "\n",
    "### For windows & mac users:  download texstudio and miktex install\n",
    "* texstudio: https://texstudio.org/\n",
    "* miktex:   https://miktex.org/download\n",
    "[Source:](https://www.texstudio.org/)\n"
   ]
  },
  {
   "cell_type": "markdown",
   "metadata": {},
   "source": [
    "![img](F.png)"
   ]
  },
  {
   "cell_type": "markdown",
   "metadata": {},
   "source": [
    "![img](1.png)"
   ]
  },
  {
   "cell_type": "markdown",
   "metadata": {},
   "source": [
    "## TeXstudio(Thesis/Report)\n",
    "\n",
    "![img](Th1.png)\n",
    "![img](BT.png)\n",
    "![img](MT1.png)\n",
    "\n",
    "## TeXstudio(Proposal)\n",
    "![img](Pr.png)\n",
    "\n",
    "![img](Pr1.png)\n",
    "## TeXstudio(Beamer Presentation)}\n",
    "![img](TS.png)\n",
    "\t\t\n",
    "![img](Be.png)\n",
    "\n"
   ]
  },
  {
   "cell_type": "markdown",
   "metadata": {},
   "source": [
    "## How to type Mathematics?\n",
    "![img](HM.png)\n",
    "\n",
    "\t\t"
   ]
  },
  {
   "cell_type": "markdown",
   "metadata": {},
   "source": [
    "##  How to type Equations?\n"
   ]
  },
  {
   "cell_type": "markdown",
   "metadata": {},
   "source": [
    " ![img](EQ1.png)\n",
    "\n",
    " $x = \\frac{-b \\pm \\sqrt{b^2 - 4ac}}{2a}$\n",
    "\n",
    "$\\frac{d^2\\psi}{dx^2} + \\frac{2m}{\\hbar^2}(E - V)\\psi = 0$\n",
    "    \n",
    "  ![img](EQ.png)\n",
    "\n",
    "\t\t\n",
    "\n",
    "$(\\nabla^{2} - \\frac{1}{c^2}\\frac{{\\partial}^2}{{\\partial}t^2})G(\\textbf{X}-\n",
    "\t\t\t\\textbf{X}', t-t') = - {\\delta}(\\textbf{X}-\\textbf{X}', t-t')\\delta(t - t')$\n",
    "\n",
    "\\begin{align}\n",
    "\\nabla \\times \\vec{\\mathbf{B}} -\\, \\frac1c\\, \\frac{\\partial\\vec{\\mathbf{E}}}{\\partial t} & = \\frac{4\\pi}{c}\\vec{\\mathbf{j}} \\\\   \\nabla \\cdot \\vec{\\mathbf{E}} & = 4 \\pi \\rho \\\\\n",
    "\\nabla \\times \\vec{\\mathbf{E}}\\, +\\, \\frac1c\\, \\frac{\\partial\\vec{\\mathbf{B}}}{\\partial t} & = \\vec{\\mathbf{0}} \\\\\n",
    "\\nabla \\cdot \\vec{\\mathbf{B}} & = 0\n",
    "\\end{align}\n",
    "\n",
    "\\begin{equation*}\n",
    "\\mathbf{V}_1 \\times \\mathbf{V}_2 =  \\begin{vmatrix}\n",
    "\\mathbf{i} & \\mathbf{j} & \\mathbf{k} \\\\\n",
    "\\frac{\\partial X}{\\partial u} &  \\frac{\\partial Y}{\\partial u} & 0 \\\\\n",
    "\\frac{\\partial X}{\\partial v} &  \\frac{\\partial Y}{\\partial v} & 0\n",
    "\\end{vmatrix}\n",
    "\\end{equation*}\n",
    "\n",
    "\\begin{align}\n",
    "\\dot{x} & = \\sigma(y-x) \\\\\n",
    "\\dot{y} & = \\rho x - y - xz \\\\\n",
    "\\dot{z} & = -\\beta z + xy\n",
    "\\end{align}"
   ]
  },
  {
   "cell_type": "markdown",
   "metadata": {},
   "source": [
    "                             *** Thank You Very Much !!!***\n",
    " ![img](Thn.png)"
   ]
  }
 ],
 "metadata": {
  "kernelspec": {
   "display_name": "Python 3",
   "language": "python",
   "name": "python3"
  },
  "language_info": {
   "codemirror_mode": {
    "name": "ipython",
    "version": 3
   },
   "file_extension": ".py",
   "mimetype": "text/x-python",
   "name": "python",
   "nbconvert_exporter": "python",
   "pygments_lexer": "ipython3",
   "version": "3.7.6"
  }
 },
 "nbformat": 4,
 "nbformat_minor": 4
}
