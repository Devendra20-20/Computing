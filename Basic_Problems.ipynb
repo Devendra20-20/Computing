{
 "cells": [
  {
   "cell_type": "markdown",
   "metadata": {},
   "source": [
    "## Few basic problems from: Pine, D. J. (2019). Introduction to Python for science and engineering. CRC Press."
   ]
  },
  {
   "cell_type": "code",
   "execution_count": 78,
   "metadata": {},
   "outputs": [
    {
     "name": "stdout",
     "output_type": "stream",
     "text": [
      "1.0\n",
      "3.141592653589793\n"
     ]
    }
   ],
   "source": [
    "y = 0.7\n",
    "print(math.sin(y) ** 2 + math.cos(y) ** 2)\n",
    "print(math.pi)"
   ]
  },
  {
   "cell_type": "markdown",
   "metadata": {},
   "source": [
    "**Q$_{1}$. A ball is thrown vertically up in the air from a height h$_{0}$ above the ground at an initial velocity v$_{0}$. Its subsequent height h and velocity v are given by the equations \n",
    " h = h$_{0}$ + v$_{0}$ t − gt$^2$ \n",
    " v = v$_0$− gt\n",
    " where g = 9.8 is the acceleration due to gravity in m/s$^{2}$ . Write a script that finds the height h and velocity v at a time t after the ball is thrown. Start the script by setting h$_{0}$ = 1.6 (meters) and v $_{0}$ = 14.2 (m/s) and have your script print out the values of height and velocity. Then use the script to find the height and velocity after 0.5 seconds. Then modify your script to find them after 2.0 seconds.**"
   ]
  },
  {
   "cell_type": "code",
   "execution_count": 10,
   "metadata": {},
   "outputs": [],
   "source": [
    "import numpy as np\n",
    "from scipy import special as sp\n",
    "import matplotlib.pyplot as plt\n",
    "import pandas as pd\n",
    "%matplotlib inline"
   ]
  },
  {
   "cell_type": "code",
   "execution_count": 11,
   "metadata": {},
   "outputs": [
    {
     "name": "stdout",
     "output_type": "stream",
     "text": [
      "6.249999999999999\n",
      "9.299999999999999\n"
     ]
    }
   ],
   "source": [
    "h0 = 1.6; \n",
    "v0= 14.2;\n",
    "g= 9.8;\n",
    "t = 0.5;\n",
    "h = h0 + v0*t-g*t**2; \n",
    "v = v0 -g*t;\n",
    "print(h)\n",
    "print(v)\n"
   ]
  },
  {
   "cell_type": "code",
   "execution_count": 12,
   "metadata": {},
   "outputs": [
    {
     "name": "stdout",
     "output_type": "stream",
     "text": [
      "-9.200000000000003\n",
      "-5.400000000000002\n"
     ]
    }
   ],
   "source": [
    "h0 = 1.6; \n",
    "v0= 14.2;\n",
    "g= 9.8;\n",
    "t = 2.0;\n",
    "h = h0 + v0*t-g*t**2; \n",
    "v = v0 -g*t;\n",
    "print(h)\n",
    "print(v)"
   ]
  },
  {
   "cell_type": "markdown",
   "metadata": {},
   "source": [
    "**Q.2 Write a script that defines the variables $V_0$=10, a= 2.5, and z= $4\\frac{1}{3}$, and then evaluates the expression\n",
    "$V=V_0(1-\\frac{z}{\\sqrt{a^2+z^2}})$. Then find for z= $8\\frac{2}{3}$ and print it out(See Note about printing page 18). Then find V for z= 13 by changing the value of z in your script.**"
   ]
  },
  {
   "cell_type": "code",
   "execution_count": 3,
   "metadata": {},
   "outputs": [
    {
     "name": "stdout",
     "output_type": "stream",
     "text": [
      "8.001110186041691\n"
     ]
    }
   ],
   "source": [
    "import numpy as np\n",
    "V0=10;\n",
    "a=2.5;\n",
    "z=4 + 1/3;\n",
    "V=V0*(1-1/np.sqrt(a**2+z**2))\n",
    "print(V)"
   ]
  },
  {
   "cell_type": "code",
   "execution_count": 32,
   "metadata": {},
   "outputs": [
    {
     "name": "stdout",
     "output_type": "stream",
     "text": [
      "8.891357394791275\n"
     ]
    }
   ],
   "source": [
    "import numpy as np\n",
    "V0=10;\n",
    "a=2.5;\n",
    "z=8 + 2/3;\n",
    "V=V0*(1-1/np.sqrt(a**2+z**2))\n",
    "print(V)"
   ]
  },
  {
   "cell_type": "code",
   "execution_count": 33,
   "metadata": {},
   "outputs": [
    {
     "name": "stdout",
     "output_type": "stream",
     "text": [
      "9.244610425399502\n"
     ]
    }
   ],
   "source": [
    "import numpy as np\n",
    "V0=10;\n",
    "a=2.5;\n",
    "z=13;\n",
    "V=V0*(1-1/np.sqrt(a**2+z**2))\n",
    "print(V)"
   ]
  },
  {
   "cell_type": "markdown",
   "metadata": {},
   "source": [
    "Q.3 Write a single Python script that calculates the following expressions:\n",
    "\n",
    "a) a= $\\frac{2+e^2.8}{\\sqrt{13}-2}$\n",
    "    \n",
    "b) b= $\\frac{1-(1+ln2)^{-3.5}}{1+\\sqrt{5}}$\n",
    "    \n",
    "c) b= sin($\\frac{2-\\sqrt{2}}{2+\\sqrt{2}}$)\n",
    "    \n",
    "After running your script in the IPython shell, typing a, b , or c at the IPython prompt should yield the value of the expressions in\n",
    "(a), (b), or (c), respectively."
   ]
  },
  {
   "cell_type": "code",
   "execution_count": 41,
   "metadata": {},
   "outputs": [
    {
     "name": "stdout",
     "output_type": "stream",
     "text": [
      "11.488045914800647\n"
     ]
    }
   ],
   "source": [
    "import numpy as np\n",
    "a=(2+np.exp(2.8)) /(np.sqrt(13)-2)\n",
    "print(a)\n"
   ]
  },
  {
   "cell_type": "code",
   "execution_count": 62,
   "metadata": {},
   "outputs": [
    {
     "name": "stdout",
     "output_type": "stream",
     "text": [
      "0.18275077585695676\n"
     ]
    }
   ],
   "source": [
    "import numpy as np\n",
    "b=(1-(1+np.log(2))**(-3.5))/(1+np.sqrt(13))\n",
    "print(b)"
   ]
  },
  {
   "cell_type": "code",
   "execution_count": 65,
   "metadata": {},
   "outputs": [
    {
     "name": "stdout",
     "output_type": "stream",
     "text": [
      "0.17073234104506005\n"
     ]
    }
   ],
   "source": [
    "import numpy as np\n",
    "c=np.sin((2-np.sqrt(2))/(2+np.sqrt(2)))\n",
    "print(c)"
   ]
  },
  {
   "cell_type": "markdown",
   "metadata": {},
   "source": [
    "**Q.4 A quadratic equation with the general form $ax^2 + bx + c = 0$ has two solutions given by the quadratic formula $x =\\frac{−b ± \\sqrt{b^2 − 4ac}}{2a}$**\n",
    "\n",
    "**(a) Given a, b, and c as inputs, write a script that gives the numerical values of the two solutions. Write the constants a, b, and c as floats, and show that your script gives the correct solutions for a few test cases when the solutions are real numbers, that is, when the discriminant $b^2 $− 4ac $\\ge$ 0. Use the print function\n",
    "in your script, discussed at the end of §2.7.1, to print out yourtwo solutions.**\n",
    "\n",
    "**(b) Written this way, however, your script gives an error message when the solutions are complex. For example, see what happens when a = 1, b = 2, and c = 3. You can fix this using statements in your script like a = a+0j after setting a to some float value. Thus, you can make the script work for any set of real inputs for a, b, and c. Again, use the print function to print out your two solutions.**"
   ]
  },
  {
   "cell_type": "code",
   "execution_count": 75,
   "metadata": {},
   "outputs": [
    {
     "name": "stdout",
     "output_type": "stream",
     "text": [
      "The solution are (-1-1.4142135623730951j) and (-1+1.4142135623730951j)\n"
     ]
    }
   ],
   "source": [
    "# Solve the quadratic equation ax**2 + bx + c = 0\n",
    "\n",
    "# import complex math module\n",
    "import cmath\n",
    "\n",
    "a = 1\n",
    "b = 2\n",
    "c = 3\n",
    "\n",
    "# calculate the discriminant\n",
    "d = (b**2) - (4*a*c)\n",
    "\n",
    "# find two solutions\n",
    "sol1 = (-b-cmath.sqrt(d))/(2*a)\n",
    "sol2 = (-b+cmath.sqrt(d))/(2*a)\n",
    "\n",
    "print('The solution are {0} and {1}'.format(sol1,sol2))"
   ]
  },
  {
   "cell_type": "markdown",
   "metadata": {},
   "source": [
    "**Q. 5 Write a program to calculate the perimeter p of an n-gon inscribed inside a sphere of diameter 1. Find p for n = 3, 4, 5, 100, 10,000, and 1,000,000. Your answers should be**"
   ]
  },
  {
   "cell_type": "markdown",
   "metadata": {},
   "source": [
    "![img](5.png)"
   ]
  },
  {
   "cell_type": "code",
   "execution_count": 4,
   "metadata": {},
   "outputs": [
    {
     "name": "stdout",
     "output_type": "stream",
     "text": [
      "[      3       4       5     100   10000 1000000]\n",
      "[9.42477796e+00 1.25663706e+01 1.57079633e+01 3.14159265e+02\n",
      " 3.14159265e+04 3.14159265e+06]\n"
     ]
    },
    {
     "data": {
      "text/plain": [
       "<matplotlib.legend.Legend at 0x7f3ec56ca850>"
      ]
     },
     "execution_count": 4,
     "metadata": {},
     "output_type": "execute_result"
    },
    {
     "data": {
      "image/png": "[encoded data removed]",
      "text/plain": [
       "<Figure size 432x288 with 1 Axes>"
      ]
     },
     "metadata": {
      "needs_background": "light"
     },
     "output_type": "display_data"
    }
   ],
   "source": [
    "import numpy as np\n",
    "from scipy import special as sp\n",
    "import matplotlib.pyplot as plt\n",
    "import pandas as pd\n",
    "%matplotlib inline\n",
    "import math as mt\n",
    "d = np.array([3,4,5,100,10000,1000000])\n",
    "print(d)\n",
    "p= np.pi*d\n",
    "print(p)\n",
    "plt.plot(d, p, label='up')\n",
    "plt.plot(d, -p, label='down')\n",
    "plt.xlabel('diameter(m)')\n",
    "plt.ylabel('perimeter(m)')\n",
    "plt.legend('plot d vs p')"
   ]
  },
  {
   "cell_type": "markdown",
   "metadata": {},
   "source": [
    "# 3.6 Exercises"
   ]
  },
  {
   "cell_type": "markdown",
   "metadata": {},
   "source": [
    "Q.3. The position of a ball at time t dropped with zero initial velocity from a height h$_{0}$ is given by y = h$_{0}$ − $\\frac{1}{2}gt^2$ where g = 9.8 m/s$^2$. Suppose h$_{0}$ = 10 m. Find the sequence of times when the ball passes each half meter assuming the ball is dropped at t = 0. Hint: Create a NumPy array for y that goes from 10 to 0 in increments of −0.5 using the arange function. Solving the above equation for t, show that\n",
    "t=$\\sqrt{\\frac{2(h_0-y)}{g}}$\n",
    "Using this equation and the array you created, find the sequence\n",
    "of times when the ball passes each half meter. Save your code as a\n",
    "Python script. It should yield the following results for the y and t\n",
    "arrays:\n",
    "\n",
    "In [1]: y\n",
    "\n",
    "Out[1]: array([10. , 9.5, 9. , 8.5, 8. ,7.5, 7. , 6.5, 6. , 5.5, 5. ,4.5, 4. , 3.5, 3. , 2.5, 2. ,1.5, 1. , 0.5])\n",
    "\n",
    "In [2]: t\n",
    "\n",
    "Out[2]: array([ 0. ,0.55328334,0.7824608 ,0.95831485,1.10656667,1.23717915,1.35526185,0.31943828, 0.45175395, 0.63887656, 0.71428571,0.84515425, 0.9035079 ,1.01015254, 1.05945693,1.15175111, 1.19522861,1.27775313, .31707778,\n",
    "1.39239919])\n",
    "Once you have created the arrays y and t , type list(zip(t, y)) at\n",
    "the IPython prompt. Explain the result."
   ]
  },
  {
   "cell_type": "code",
   "execution_count": 44,
   "metadata": {},
   "outputs": [
    {
     "name": "stdout",
     "output_type": "stream",
     "text": [
      "Value of t are in array form:\n",
      "[0.         0.31943828 0.45175395 0.55328334 0.63887656 0.71428571\n",
      " 0.7824608  0.84515425 0.9035079  0.95831485 1.01015254 1.05945693\n",
      " 1.10656667 1.15175111 1.19522861 1.23717915 1.27775313 1.31707778\n",
      " 1.35526185 1.39239919]\n"
     ]
    },
    {
     "data": {
      "text/plain": [
       "<matplotlib.legend.Legend at 0x7f1aaefbbe10>"
      ]
     },
     "execution_count": 44,
     "metadata": {},
     "output_type": "execute_result"
    },
    {
     "data": {
      "image/png": "[encoded data removed]",
      "text/plain": [
       "<Figure size 432x288 with 1 Axes>"
      ]
     },
     "metadata": {
      "needs_background": "light"
     },
     "output_type": "display_data"
    }
   ],
   "source": [
    "import numpy as np\n",
    "#from scipy import special as sp\n",
    "import matplotlib.pyplot as plt\n",
    "#import pandas as pd\n",
    "#matplotlib inline\n",
    "#import math as mt\n",
    "y= np.array([10.,9.5, 9. , 8.5, 8. , 7.5, 7. , 6.5, 6. , 5.5, 5. ,4.5, 4. , 3.5, 3. , 2.5, 2. ,1.5, 1. , 0.5])\n",
    "h0=10\n",
    "g=9.8\n",
    "t=np.sqrt(2*(h0-y)/g)\n",
    "print(\"Value of t are in array form:\")\n",
    "print(t) \n",
    "#t= np. array([ 0. , 0.55328334,0.7824608 , 0.95831485, 1.10656667, 1.23717915,1.35526185,0.31943828, 0.45175395,0.63887656, 0.71428571,0.84515425, 0.9035079 ,1.01015254, 1.05945693,1.15175111, 1.19522861,1.27775313, 1.31707778,1.39239919])\n",
    "plt.plot(t, y, label='up')\n",
    "plt.xlabel('time(sec)')\n",
    "plt.ylabel('y(m)')\n",
    "plt.legend('plot t vs y')"
   ]
  },
  {
   "cell_type": "markdown",
   "metadata": {},
   "source": [
    "Conclusion: From this graph we concluded that the relation between displacement and time is parabolic in nature. It is the case of horizontal projection of the ball from the top."
   ]
  },
  {
   "cell_type": "markdown",
   "metadata": {},
   "source": [
    "Q.4. Recalling that the average velocity over an interval ∆t is definedas $\\frac{\\Delta{v}}{\\Delta{t}}$, find the average velocity for each time interval in\n",
    "the previous problem using NumPy arrays. Keep in mind that the number of time intervals is one less than the number of times.\n",
    "\n",
    "Hint: What are the arrays y[1:20] and y[0:19]? What does the are ray y[1:20]-y[0:19] represent? (Try printing out the two arrays from the IPython shell.) Using this last array and a similar one involving time, find the array of average velocities. \n",
    "\n",
    "Bonus: Can you think of a more elegant way of representing y[1:20]-y[0:19] that does not make explicit reference to the number of elements in they array—one that would work for any length array? You should get the following answer for the array of velocities:\n",
    "\n",
    "In [5]: v\n",
    "\n",
    "Out[5]: array([-1.56524758, -3.77884195,-4.9246827 , -5.84158351, -6.63049517,-7.3340579 , -7.97531375,-8.56844457,-9.12293148, -9.64549022,-10.14108641,-10.61351563,-11.06575711,-11.50020061,-11.91879801,-12.32316816,-12.71467146,-13.09446421,-13.46353913])\n",
    "\n",
    "Bonus: Calculate the acceleration as a function of time using the formula a = $\\frac{\\Delta{v}}{\\Delta{t}}$. Take care, as you will need to define a new time array that corresponds to the times where the velocities are calculated, which is midway between the times in the original time array. You should be able to justify the answer you get for the array of accelerations."
   ]
  },
  {
   "cell_type": "code",
   "execution_count": 41,
   "metadata": {},
   "outputs": [
    {
     "name": "stdout",
     "output_type": "stream",
     "text": [
      "Value of t(sec) are in array form:\n",
      "[0.         0.31943828 0.45175395 0.55328334 0.63887656 0.71428571\n",
      " 0.7824608  0.84515425 0.9035079  0.95831485 1.01015254 1.05945693\n",
      " 1.10656667 1.15175111 1.19522861 1.23717915 1.27775313 1.31707778\n",
      " 1.35526185 1.39239919]\n",
      "Value of V(m/s) are in array form:\n",
      "[        inf 29.7397041  19.92234926 15.36283394 12.52198067 10.5\n",
      "  8.94613511  7.69090372  6.64078309  5.73924114  4.94974747  4.24745913\n",
      "  3.61478446  3.038851    2.50998008  2.02072594  1.56524758  1.1388849\n",
      "  0.73786479  0.35909242]\n",
      "Value of a(m/s^2) are in array form:\n",
      "[        inf 93.1        44.1        27.76666667 19.6        14.7\n",
      " 11.43333333  9.1         7.35        5.98888889  4.9         4.00909091\n",
      "  3.26666667  2.63846154  2.1         1.63333333  1.225       0.86470588\n",
      "  0.54444444  0.25789474]\n"
     ]
    },
    {
     "name": "stderr",
     "output_type": "stream",
     "text": [
      "/home/devendra/anaconda3/lib/python3.7/site-packages/ipykernel_launcher.py:13: RuntimeWarning: divide by zero encountered in true_divide\n",
      "  del sys.path[0]\n"
     ]
    },
    {
     "data": {
      "text/plain": [
       "<matplotlib.legend.Legend at 0x7f1aaef8c7d0>"
      ]
     },
     "execution_count": 41,
     "metadata": {},
     "output_type": "execute_result"
    },
    {
     "data": {
      "image/png": "[encoded data removed]",
      "text/plain": [
       "<Figure size 432x288 with 1 Axes>"
      ]
     },
     "metadata": {
      "needs_background": "light"
     },
     "output_type": "display_data"
    }
   ],
   "source": [
    "import numpy as np\n",
    "#from scipy import special as sp\n",
    "import matplotlib.pyplot as plt\n",
    "#import pandas as pd\n",
    "#matplotlib inline\n",
    "#import math as mt\n",
    "y= np.array([10.,9.5, 9. , 8.5, 8. , 7.5, 7. , 6.5, 6. , 5.5, 5. ,4.5, 4. , 3.5, 3. , 2.5, 2. ,1.5, 1. , 0.5])\n",
    "h0=10\n",
    "g=9.8\n",
    "t=np.sqrt(2*(h0-y)/g)\n",
    "print(\"Value of t(sec) are in array form:\")\n",
    "print(t) \n",
    "v=y/t\n",
    "print(\"Value of V(m/s) are in array form:\")\n",
    "print(v)\n",
    "a=v/t\n",
    "print(\"Value of a(m/s^2) are in array form:\")\n",
    "print(a)\n",
    "plt.plot(t, y, label='up')\n",
    "plt.xlabel('time(sec)')\n",
    "plt.ylabel('y(m)')\n",
    "plt.legend('plot t vs y')\n"
   ]
  },
  {
   "cell_type": "code",
   "execution_count": 43,
   "metadata": {},
   "outputs": [
    {
     "name": "stdout",
     "output_type": "stream",
     "text": [
      "Value of t(sec) are in array form:\n",
      "[0.         0.31943828 0.45175395 0.55328334 0.63887656 0.71428571\n",
      " 0.7824608  0.84515425 0.9035079  0.95831485 1.01015254 1.05945693\n",
      " 1.10656667 1.15175111 1.19522861 1.23717915 1.27775313 1.31707778\n",
      " 1.35526185 1.39239919]\n",
      "Value of V(m/s) are in array form:\n",
      "[        inf 29.7397041  19.92234926 15.36283394 12.52198067 10.5\n",
      "  8.94613511  7.69090372  6.64078309  5.73924114  4.94974747  4.24745913\n",
      "  3.61478446  3.038851    2.50998008  2.02072594  1.56524758  1.1388849\n",
      "  0.73786479  0.35909242]\n"
     ]
    },
    {
     "name": "stderr",
     "output_type": "stream",
     "text": [
      "/home/devendra/anaconda3/lib/python3.7/site-packages/ipykernel_launcher.py:13: RuntimeWarning: divide by zero encountered in true_divide\n",
      "  del sys.path[0]\n"
     ]
    },
    {
     "data": {
      "text/plain": [
       "<matplotlib.legend.Legend at 0x7f1aaf19cb50>"
      ]
     },
     "execution_count": 43,
     "metadata": {},
     "output_type": "execute_result"
    },
    {
     "data": {
      "image/png": "[encoded data removed]",
      "text/plain": [
       "<Figure size 432x288 with 1 Axes>"
      ]
     },
     "metadata": {
      "needs_background": "light"
     },
     "output_type": "display_data"
    }
   ],
   "source": [
    "import numpy as np\n",
    "#from scipy import special as sp\n",
    "import matplotlib.pyplot as plt\n",
    "#import pandas as pd\n",
    "#matplotlib inline\n",
    "#import math as mt\n",
    "y= np.array([10.,9.5, 9. , 8.5, 8. , 7.5, 7. , 6.5, 6. , 5.5, 5. ,4.5, 4. , 3.5, 3. , 2.5, 2. ,1.5, 1. , 0.5])\n",
    "h0=10\n",
    "g=9.8\n",
    "t=np.sqrt(2*(h0-y)/g)\n",
    "print(\"Value of t(sec) are in array form:\")\n",
    "print(t) \n",
    "v=y/t\n",
    "print(\"Value of V(m/s) are in array form:\")\n",
    "print(v)\n",
    "plt.plot(t, v, label='up')\n",
    "plt.xlabel('time(sec)')\n",
    "plt.ylabel('v(m/s)')\n",
    "plt.legend('plot t vs v')"
   ]
  },
  {
   "cell_type": "code",
   "execution_count": 40,
   "metadata": {},
   "outputs": [
    {
     "name": "stdout",
     "output_type": "stream",
     "text": [
      "Value of t(sec) are in array form:\n",
      "[0.         0.31943828 0.45175395 0.55328334 0.63887656 0.71428571\n",
      " 0.7824608  0.84515425 0.9035079  0.95831485 1.01015254 1.05945693\n",
      " 1.10656667 1.15175111 1.19522861 1.23717915 1.27775313 1.31707778\n",
      " 1.35526185 1.39239919]\n",
      "Value of V(m/s) are in array form:\n",
      "[        inf 29.7397041  19.92234926 15.36283394 12.52198067 10.5\n",
      "  8.94613511  7.69090372  6.64078309  5.73924114  4.94974747  4.24745913\n",
      "  3.61478446  3.038851    2.50998008  2.02072594  1.56524758  1.1388849\n",
      "  0.73786479  0.35909242]\n",
      "Value of a(m/s^2) are in array form:\n",
      "[        inf 93.1        44.1        27.76666667 19.6        14.7\n",
      " 11.43333333  9.1         7.35        5.98888889  4.9         4.00909091\n",
      "  3.26666667  2.63846154  2.1         1.63333333  1.225       0.86470588\n",
      "  0.54444444  0.25789474]\n"
     ]
    },
    {
     "name": "stderr",
     "output_type": "stream",
     "text": [
      "/home/devendra/anaconda3/lib/python3.7/site-packages/ipykernel_launcher.py:13: RuntimeWarning: divide by zero encountered in true_divide\n",
      "  del sys.path[0]\n"
     ]
    },
    {
     "data": {
      "text/plain": [
       "<matplotlib.legend.Legend at 0x7f1aaed7ea50>"
      ]
     },
     "execution_count": 40,
     "metadata": {},
     "output_type": "execute_result"
    },
    {
     "data": {
      "image/png": "[encoded data removed]",
      "text/plain": [
       "<Figure size 432x288 with 1 Axes>"
      ]
     },
     "metadata": {
      "needs_background": "light"
     },
     "output_type": "display_data"
    }
   ],
   "source": [
    "import numpy as np\n",
    "#from scipy import special as sp\n",
    "import matplotlib.pyplot as plt\n",
    "#import pandas as pd\n",
    "#matplotlib inline\n",
    "#import math as mt\n",
    "y= np.array([10.,9.5, 9. , 8.5, 8. , 7.5, 7. , 6.5, 6. , 5.5, 5. ,4.5, 4. , 3.5, 3. , 2.5, 2. ,1.5, 1. , 0.5])\n",
    "h0=10\n",
    "g=9.8\n",
    "t=np.sqrt(2*(h0-y)/g)\n",
    "print(\"Value of t(sec) are in array form:\")\n",
    "print(t) \n",
    "v=y/t\n",
    "print(\"Value of V(m/s) are in array form:\")\n",
    "print(v)\n",
    "a=v/t\n",
    "print(\"Value of a(m/s^2) are in array form:\")\n",
    "print(a)\n",
    "plt.plot(t, a, label='up')\n",
    "plt.xlabel('time(sec)')\n",
    "plt.ylabel('a(m/s^2)')\n",
    "plt.legend('plot t vs a')\n"
   ]
  },
  {
   "cell_type": "markdown",
   "metadata": {},
   "source": [
    "                                 ****Thank you*****"
   ]
  }
 ],
 "metadata": {
  "kernelspec": {
   "display_name": "Python 3",
   "language": "python",
   "name": "python3"
  },
  "language_info": {
   "codemirror_mode": {
    "name": "ipython",
    "version": 3
   },
   "file_extension": ".py",
   "mimetype": "text/x-python",
   "name": "python",
   "nbconvert_exporter": "python",
   "pygments_lexer": "ipython3",
   "version": "3.7.6"
  },
  "widgets": {
   "application/vnd.jupyter.widget-state+json": {
    "state": {},
    "version_major": 2,
    "version_minor": 0
   }
  }
 },
 "nbformat": 4,
 "nbformat_minor": 4
}
