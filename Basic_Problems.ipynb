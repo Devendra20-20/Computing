{
 "cells": [
  {
   "cell_type": "markdown",
   "metadata": {},
   "source": [
    "## Few Basic problems from: Pine, D. J. (2019). Introduction to Python for science and engineering. CRC Press."
   ]
  },
  {
   "cell_type": "code",
   "execution_count": 78,
   "metadata": {},
   "outputs": [
    {
     "name": "stdout",
     "output_type": "stream",
     "text": [
      "1.0\n",
      "3.141592653589793\n"
     ]
    }
   ],
   "source": [
    "y = 0.7\n",
    "print(math.sin(y) ** 2 + math.cos(y) ** 2)\n",
    "print(math.pi)"
   ]
  },
  {
   "cell_type": "markdown",
   "metadata": {},
   "source": [
    "**Q$_{1}$. A ball is thrown vertically up in the air from a height h$_{0}$ above the ground at an initial velocity v$_{0}$. Its subsequent height h and velocity v are given by the equations \n",
    " h = h$_{0}$ + v$_{0}$ t − gt$^2$ \n",
    " v = v$_0$− gt\n",
    " where g = 9.8 is the acceleration due to gravity in m/s$^{2}$ . Write a script that finds the height h and velocity v at a time t after the ball is thrown. Start the script by setting h$_{0}$ = 1.6 (meters) and v $_{0}$ = 14.2 (m/s) and have your script print out the values of height and velocity. Then use the script to find the height and velocity after 0.5 seconds. Then modify your script to find them after 2.0 seconds.**"
   ]
  },
  {
   "cell_type": "code",
   "execution_count": 10,
   "metadata": {},
   "outputs": [],
   "source": [
    "import numpy as np\n",
    "from scipy import special as sp\n",
    "import matplotlib.pyplot as plt\n",
    "import pandas as pd\n",
    "%matplotlib inline"
   ]
  },
  {
   "cell_type": "code",
   "execution_count": 11,
   "metadata": {},
   "outputs": [
    {
     "name": "stdout",
     "output_type": "stream",
     "text": [
      "6.249999999999999\n",
      "9.299999999999999\n"
     ]
    }
   ],
   "source": [
    "h0 = 1.6; \n",
    "v0= 14.2;\n",
    "g= 9.8;\n",
    "t = 0.5;\n",
    "h = h0 + v0*t-g*t**2; \n",
    "v = v0 -g*t;\n",
    "print(h)\n",
    "print(v)\n"
   ]
  },
  {
   "cell_type": "code",
   "execution_count": 12,
   "metadata": {},
   "outputs": [
    {
     "name": "stdout",
     "output_type": "stream",
     "text": [
      "-9.200000000000003\n",
      "-5.400000000000002\n"
     ]
    }
   ],
   "source": [
    "h0 = 1.6; \n",
    "v0= 14.2;\n",
    "g= 9.8;\n",
    "t = 2.0;\n",
    "h = h0 + v0*t-g*t**2; \n",
    "v = v0 -g*t;\n",
    "print(h)\n",
    "print(v)"
   ]
  },
  {
   "cell_type": "markdown",
   "metadata": {},
   "source": [
    "**Q.2 Write a script that defines the variables $V_0$=10, a= 2.5, and z= $4\\frac{1}{3}$, and then evaluates the expression\n",
    "$V=V_0(1-\\frac{z}{\\sqrt{a^2+z^2}})$. Then find for z= $8\\frac{2}{3}$ and print it out(See Note about printing page 18). Then find V for z= 13 by changing the value of z in your script.**"
   ]
  },
  {
   "cell_type": "code",
   "execution_count": 3,
   "metadata": {},
   "outputs": [
    {
     "name": "stdout",
     "output_type": "stream",
     "text": [
      "8.001110186041691\n"
     ]
    }
   ],
   "source": [
    "import numpy as np\n",
    "V0=10;\n",
    "a=2.5;\n",
    "z=4 + 1/3;\n",
    "V=V0*(1-1/np.sqrt(a**2+z**2))\n",
    "print(V)"
   ]
  },
  {
   "cell_type": "code",
   "execution_count": 32,
   "metadata": {},
   "outputs": [
    {
     "name": "stdout",
     "output_type": "stream",
     "text": [
      "8.891357394791275\n"
     ]
    }
   ],
   "source": [
    "import numpy as np\n",
    "V0=10;\n",
    "a=2.5;\n",
    "z=8 + 2/3;\n",
    "V=V0*(1-1/np.sqrt(a**2+z**2))\n",
    "print(V)"
   ]
  },
  {
   "cell_type": "code",
   "execution_count": 33,
   "metadata": {},
   "outputs": [
    {
     "name": "stdout",
     "output_type": "stream",
     "text": [
      "9.244610425399502\n"
     ]
    }
   ],
   "source": [
    "import numpy as np\n",
    "V0=10;\n",
    "a=2.5;\n",
    "z=13;\n",
    "V=V0*(1-1/np.sqrt(a**2+z**2))\n",
    "print(V)"
   ]
  },
  {
   "cell_type": "markdown",
   "metadata": {},
   "source": [
    "Q.3 Write a single Python script that calculates the following expressions:\n",
    "\n",
    "a) a= $\\frac{2+e^2.8}{\\sqrt{13}-2}$\n",
    "    \n",
    "b) b= $\\frac{1-(1+ln2)^{-3.5}}{1+\\sqrt{5}}$\n",
    "    \n",
    "c) b= sin($\\frac{2-\\sqrt{2}}{2+\\sqrt{2}}$)\n",
    "    \n",
    "After running your script in the IPython shell, typing a, b , or c at the IPython prompt should yield the value of the expressions in\n",
    "(a), (b), or (c), respectively."
   ]
  },
  {
   "cell_type": "code",
   "execution_count": 41,
   "metadata": {},
   "outputs": [
    {
     "name": "stdout",
     "output_type": "stream",
     "text": [
      "11.488045914800647\n"
     ]
    }
   ],
   "source": [
    "import numpy as np\n",
    "a=(2+np.exp(2.8)) /(np.sqrt(13)-2)\n",
    "print(a)\n"
   ]
  },
  {
   "cell_type": "code",
   "execution_count": 62,
   "metadata": {},
   "outputs": [
    {
     "name": "stdout",
     "output_type": "stream",
     "text": [
      "0.18275077585695676\n"
     ]
    }
   ],
   "source": [
    "import numpy as np\n",
    "b=(1-(1+np.log(2))**(-3.5))/(1+np.sqrt(13))\n",
    "print(b)"
   ]
  },
  {
   "cell_type": "code",
   "execution_count": 65,
   "metadata": {},
   "outputs": [
    {
     "name": "stdout",
     "output_type": "stream",
     "text": [
      "0.17073234104506005\n"
     ]
    }
   ],
   "source": [
    "import numpy as np\n",
    "c=np.sin((2-np.sqrt(2))/(2+np.sqrt(2)))\n",
    "print(c)"
   ]
  },
  {
   "cell_type": "markdown",
   "metadata": {},
   "source": [
    "**Q.4 A quadratic equation with the general form $ax^2 + bx + c = 0$ has two solutions given by the quadratic formula $x =\\frac{\\sqrt{−b ± b^2 − 4ac}}{2a}$**\n",
    "\n",
    "**(a) Given a, b, and c as inputs, write a script that gives the numerical values of the two solutions. Write the constants a, b, and c as floats, and show that your script gives the correct solutions for a few test cases when the solutions are real numbers, that is, when the discriminant $b^2 $− 4ac $\\ge$ 0. Use the print function\n",
    "in your script, discussed at the end of §2.7.1, to print out yourtwo solutions.**\n",
    "\n",
    "**(b) Written this way, however, your script gives an error message when the solutions are complex. For example, see what happens when a = 1, b = 2, and c = 3. You can fix this using statements in your script like a = a+0j after setting a to some float value. Thus, you can make the script work for any set of real inputs for a, b, and c. Again, use the print function to print out your two solutions.**"
   ]
  },
  {
   "cell_type": "code",
   "execution_count": 75,
   "metadata": {},
   "outputs": [
    {
     "name": "stdout",
     "output_type": "stream",
     "text": [
      "The solution are (-1-1.4142135623730951j) and (-1+1.4142135623730951j)\n"
     ]
    }
   ],
   "source": [
    "# Solve the quadratic equation ax**2 + bx + c = 0\n",
    "\n",
    "# import complex math module\n",
    "import cmath\n",
    "\n",
    "a = 1\n",
    "b = 2\n",
    "c = 3\n",
    "\n",
    "# calculate the discriminant\n",
    "d = (b**2) - (4*a*c)\n",
    "\n",
    "# find two solutions\n",
    "sol1 = (-b-cmath.sqrt(d))/(2*a)\n",
    "sol2 = (-b+cmath.sqrt(d))/(2*a)\n",
    "\n",
    "print('The solution are {0} and {1}'.format(sol1,sol2))"
   ]
  },
  {
   "cell_type": "markdown",
   "metadata": {},
   "source": [
    "**Q. 5 Write a program to calculate the perimeter p of an n-gon inscribed inside a sphere of diameter 1. Find p for n = 3, 4, 5, 100, 10,000, and 1,000,000. Your answers should be**"
   ]
  },
  {
   "cell_type": "markdown",
   "metadata": {},
   "source": [
    "![img](5.png)"
   ]
  },
  {
   "cell_type": "code",
   "execution_count": 4,
   "metadata": {},
   "outputs": [
    {
     "name": "stdout",
     "output_type": "stream",
     "text": [
      "[      3       4       5     100   10000 1000000]\n",
      "[9.42477796e+00 1.25663706e+01 1.57079633e+01 3.14159265e+02\n",
      " 3.14159265e+04 3.14159265e+06]\n"
     ]
    },
    {
     "data": {
      "text/plain": [
       "<matplotlib.legend.Legend at 0x7f3ec56ca850>"
      ]
     },
     "execution_count": 4,
     "metadata": {},
     "output_type": "execute_result"
    },
    {
     "data": {
      "image/png": "[encoded data removed]",
      "text/plain": [
       "<Figure size 432x288 with 1 Axes>"
      ]
     },
     "metadata": {
      "needs_background": "light"
     },
     "output_type": "display_data"
    }
   ],
   "source": [
    "import numpy as np\n",
    "from scipy import special as sp\n",
    "import matplotlib.pyplot as plt\n",
    "import pandas as pd\n",
    "%matplotlib inline\n",
    "import math as mt\n",
    "d = np.array([3,4,5,100,10000,1000000])\n",
    "print(d)\n",
    "p= np.pi*d\n",
    "print(p)\n",
    "plt.plot(d, p, label='up')\n",
    "plt.plot(d, -p, label='down')\n",
    "plt.xlabel('diameter(m)')\n",
    "plt.ylabel('perimeter(m)')\n",
    "plt.legend('plot d vs p')"
   ]
  },
  {
   "cell_type": "markdown",
   "metadata": {},
   "source": [
    "                *****************Thank you *************"
   ]
  }
 ],
 "metadata": {
  "kernelspec": {
   "display_name": "Python 3",
   "language": "python",
   "name": "python3"
  },
  "language_info": {
   "codemirror_mode": {
    "name": "ipython",
    "version": 3
   },
   "file_extension": ".py",
   "mimetype": "text/x-python",
   "name": "python",
   "nbconvert_exporter": "python",
   "pygments_lexer": "ipython3",
   "version": "3.7.6"
  },
  "widgets": {
   "application/vnd.jupyter.widget-state+json": {
    "state": {},
    "version_major": 2,
    "version_minor": 0
   }
  }
 },
 "nbformat": 4,
 "nbformat_minor": 4
}
