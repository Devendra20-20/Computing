{
 "cells": [
  {
   "cell_type": "markdown",
   "metadata": {},
   "source": [
    "## Few Basic problems from: Pine, D. J. (2019). Introduction to Python for science and engineering. CRC Press."
   ]
  },
  {
   "cell_type": "code",
   "execution_count": 78,
   "metadata": {},
   "outputs": [
    {
     "name": "stdout",
     "output_type": "stream",
     "text": [
      "1.0\n",
      "3.141592653589793\n"
     ]
    }
   ],
   "source": [
    "y = 0.7\n",
    "print(math.sin(y) ** 2 + math.cos(y) ** 2)\n",
    "print(math.pi)"
   ]
  },
  {
   "cell_type": "markdown",
   "metadata": {},
   "source": [
    "### Q$_{1}$. A ball is thrown vertically up in the air from a height h$_{0}$ above the ground at an initial velocity v$_{0}$. Its subsequent height h and velocity v are given by the equations \n",
    "#### h = h$_{0}$ + v$_{0}$ t − gt$^2$ \n",
    "#### v = v$_0$− gt\n",
    "###  where g = 9.8 is the acceleration due to gravity in m/s$^{2}$ . Write a script that finds the height h and velocity v at a time t after the ball is thrown. Start the script by setting h$_{0}$ = 1.6 (meters) and v $_{0}$ = 14.2 (m/s) and have your script print out the values of height and velocity. Then use the script to find the height and velocity after 0.5 seconds. Then modify your script to find them after 2.0 seconds."
   ]
  },
  {
   "cell_type": "code",
   "execution_count": 10,
   "metadata": {},
   "outputs": [],
   "source": [
    "import numpy as np\n",
    "from scipy import special as sp\n",
    "import matplotlib.pyplot as plt\n",
    "import pandas as pd\n",
    "%matplotlib inline"
   ]
  },
  {
   "cell_type": "code",
   "execution_count": 11,
   "metadata": {},
   "outputs": [
    {
     "name": "stdout",
     "output_type": "stream",
     "text": [
      "6.249999999999999\n",
      "9.299999999999999\n"
     ]
    }
   ],
   "source": [
    "h0 = 1.6; \n",
    "v0= 14.2;\n",
    "g= 9.8;\n",
    "t = 0.5;\n",
    "h = h0 + v0*t-g*t**2; \n",
    "v = v0 -g*t;\n",
    "print(h)\n",
    "print(v)\n"
   ]
  },
  {
   "cell_type": "code",
   "execution_count": 12,
   "metadata": {},
   "outputs": [
    {
     "name": "stdout",
     "output_type": "stream",
     "text": [
      "-9.200000000000003\n",
      "-5.400000000000002\n"
     ]
    }
   ],
   "source": [
    "h0 = 1.6; \n",
    "v0= 14.2;\n",
    "g= 9.8;\n",
    "t = 2.0;\n",
    "h = h0 + v0*t-g*t**2; \n",
    "v = v0 -g*t;\n",
    "print(h)\n",
    "print(v)"
   ]
  },
  {
   "cell_type": "markdown",
   "metadata": {},
   "source": [
    "![img](1.png)"
   ]
  },
  {
   "cell_type": "code",
   "execution_count": 31,
   "metadata": {},
   "outputs": [
    {
     "name": "stdout",
     "output_type": "stream",
     "text": [
      "8.001110186041691\n"
     ]
    }
   ],
   "source": [
    "import numpy as np\n",
    "V0=10;\n",
    "a=2.5;\n",
    "z=4 + 1/3;\n",
    "V=V0*(1-1/np.sqrt(a**2+z**2))\n",
    "print(V)"
   ]
  },
  {
   "cell_type": "code",
   "execution_count": 32,
   "metadata": {},
   "outputs": [
    {
     "name": "stdout",
     "output_type": "stream",
     "text": [
      "8.891357394791275\n"
     ]
    }
   ],
   "source": [
    "import numpy as np\n",
    "V0=10;\n",
    "a=2.5;\n",
    "z=8 + 2/3;\n",
    "V=V0*(1-1/np.sqrt(a**2+z**2))\n",
    "print(V)"
   ]
  },
  {
   "cell_type": "code",
   "execution_count": 33,
   "metadata": {},
   "outputs": [
    {
     "name": "stdout",
     "output_type": "stream",
     "text": [
      "9.244610425399502\n"
     ]
    }
   ],
   "source": [
    "import numpy as np\n",
    "V0=10;\n",
    "a=2.5;\n",
    "z=13;\n",
    "V=V0*(1-1/np.sqrt(a**2+z**2))\n",
    "print(V)"
   ]
  },
  {
   "cell_type": "markdown",
   "metadata": {},
   "source": [
    "![img](2.png)"
   ]
  },
  {
   "cell_type": "code",
   "execution_count": 41,
   "metadata": {},
   "outputs": [
    {
     "name": "stdout",
     "output_type": "stream",
     "text": [
      "11.488045914800647\n"
     ]
    }
   ],
   "source": [
    "import numpy as np\n",
    "a=(2+np.exp(2.8)) /(np.sqrt(13)-2)\n",
    "print(a)\n"
   ]
  },
  {
   "cell_type": "code",
   "execution_count": 62,
   "metadata": {},
   "outputs": [
    {
     "name": "stdout",
     "output_type": "stream",
     "text": [
      "0.18275077585695676\n"
     ]
    }
   ],
   "source": [
    "import numpy as np\n",
    "b=(1-(1+np.log(2))**(-3.5))/(1+np.sqrt(13))\n",
    "print(b)"
   ]
  },
  {
   "cell_type": "code",
   "execution_count": 65,
   "metadata": {},
   "outputs": [
    {
     "name": "stdout",
     "output_type": "stream",
     "text": [
      "0.17073234104506005\n"
     ]
    }
   ],
   "source": [
    "import numpy as np\n",
    "c=np.sin((2-np.sqrt(2))/(2+np.sqrt(2)))\n",
    "print(c)"
   ]
  },
  {
   "cell_type": "markdown",
   "metadata": {},
   "source": [
    "![img](3.png)"
   ]
  },
  {
   "cell_type": "markdown",
   "metadata": {},
   "source": [
    "![img](4.png)"
   ]
  },
  {
   "cell_type": "code",
   "execution_count": 75,
   "metadata": {},
   "outputs": [
    {
     "name": "stdout",
     "output_type": "stream",
     "text": [
      "The solution are (-1-1.4142135623730951j) and (-1+1.4142135623730951j)\n"
     ]
    }
   ],
   "source": [
    "# Solve the quadratic equation ax**2 + bx + c = 0\n",
    "\n",
    "# import complex math module\n",
    "import cmath\n",
    "\n",
    "a = 1\n",
    "b = 2\n",
    "c = 3\n",
    "\n",
    "# calculate the discriminant\n",
    "d = (b**2) - (4*a*c)\n",
    "\n",
    "# find two solutions\n",
    "sol1 = (-b-cmath.sqrt(d))/(2*a)\n",
    "sol2 = (-b+cmath.sqrt(d))/(2*a)\n",
    "\n",
    "print('The solution are {0} and {1}'.format(sol1,sol2))"
   ]
  },
  {
   "cell_type": "markdown",
   "metadata": {},
   "source": [
    "### 5. Write a program to calculate the perimeter p of an n-gon inscribed inside a sphere of diameter 1. Find p for n = 3, 4, 5, 100, 10,000, and 1,000,000. Your answers should be"
   ]
  },
  {
   "cell_type": "markdown",
   "metadata": {},
   "source": [
    "![img](5.png)"
   ]
  },
  {
   "cell_type": "code",
   "execution_count": 87,
   "metadata": {},
   "outputs": [
    {
     "name": "stdout",
     "output_type": "stream",
     "text": [
      "[      3       4       5     100   10000 1000000]\n",
      "[9.42477796e+00 1.25663706e+01 1.57079633e+01 3.14159265e+02\n",
      " 3.14159265e+04 3.14159265e+06]\n"
     ]
    },
    {
     "data": {
      "text/plain": [
       "<matplotlib.legend.Legend at 0x7f812bca4f10>"
      ]
     },
     "execution_count": 87,
     "metadata": {},
     "output_type": "execute_result"
    },
    {
     "data": {
      "image/png": "[encoded data removed]",
      "text/plain": [
       "<Figure size 432x288 with 1 Axes>"
      ]
     },
     "metadata": {
      "needs_background": "light"
     },
     "output_type": "display_data"
    }
   ],
   "source": [
    "import numpy as np\n",
    "from scipy import special as sp\n",
    "import matplotlib.pyplot as plt\n",
    "import pandas as pd\n",
    "%matplotlib inline\n",
    "import math as mt\n",
    "d = np.array([3,4,5,100,10000,1000000])\n",
    "print(d)\n",
    "p= np.pi*d\n",
    "print(p)\n",
    "plt.plot(d, p, label='up')\n",
    "plt.plot(d, -p, label='down')\n",
    "plt.xlabel('d(m)')\n",
    "plt.ylabel('p(m)')\n",
    "plt.legend('plot d vs p')"
   ]
  },
  {
   "cell_type": "markdown",
   "metadata": {},
   "source": [
    "                *****************Thank you *************************"
   ]
  }
 ],
 "metadata": {
  "kernelspec": {
   "display_name": "Python 3",
   "language": "python",
   "name": "python3"
  },
  "language_info": {
   "codemirror_mode": {
    "name": "ipython",
    "version": 3
   },
   "file_extension": ".py",
   "mimetype": "text/x-python",
   "name": "python",
   "nbconvert_exporter": "python",
   "pygments_lexer": "ipython3",
   "version": "3.7.6"
  },
  "widgets": {
   "application/vnd.jupyter.widget-state+json": {
    "state": {},
    "version_major": 2,
    "version_minor": 0
   }
  }
 },
 "nbformat": 4,
 "nbformat_minor": 4
}
